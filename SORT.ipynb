{
  "cells": [
    {
      "cell_type": "markdown",
      "metadata": {
        "id": "N0OJtYn295Xp"
      },
      "source": [
        "# 0.Dependencies"
      ]
    },
    {
      "cell_type": "code",
      "execution_count": 1,
      "metadata": {
        "id": "j_DIspAZ52bN"
      },
      "outputs": [],
      "source": [
        "%%capture\n",
        "!pip install ultralytics"
      ]
    },
    {
      "cell_type": "code",
      "execution_count": 2,
      "metadata": {
        "id": "DJILQ8Iy9wd7"
      },
      "outputs": [],
      "source": [
        "import torch\n",
        "import numpy as np\n",
        "from collections import deque\n",
        "import cv2\n",
        "import matplotlib.pyplot as plt\n",
        "from ultralytics import YOLO"
      ]
    },
    {
      "cell_type": "code",
      "execution_count": 42,
      "metadata": {
        "colab": {
          "base_uri": "https://localhost:8080/"
        },
        "id": "WDWiE8_p-nKN",
        "outputId": "9a50a654-fbd1-44dc-eca9-b250179607f1"
      },
      "outputs": [
        {
          "name": "stdout",
          "output_type": "stream",
          "text": [
            "GPU\n"
          ]
        }
      ],
      "source": [
        "MODEL_TYPE = 'yolov5m.pt'\n",
        "OBJ_CONFIDENCE = 0.4\n",
        "IMAGE_SIZE = 640\n",
        "MAX_AGE = 20\n",
        "MIN_HITS = 5\n",
        "CLASSES = {'Bicycle': 1,\n",
        "           'Car': 2,\n",
        "           'Motorcycle': 3,\n",
        "           'Bus': 5,\n",
        "           'Truck': 7}\n",
        "DEVICE = 'cuda' if torch.cuda.is_available() else 'cpu'\n",
        "if DEVICE == 'cuda':\n",
        "    print(\"GPU\")\n",
        "    torch.cuda.set_device(0)\n",
        "\n",
        "INPUT_VIDEO = \"input.mp4\""
      ]
    },
    {
      "cell_type": "markdown",
      "metadata": {
        "id": "HQTvCFGMAJUB"
      },
      "source": [
        "# 1.Tracker(Simple Online Real-Time Tracker)"
      ]
    },
    {
      "cell_type": "code",
      "execution_count": 43,
      "metadata": {
        "id": "-78NWua9AMAt"
      },
      "outputs": [],
      "source": [
        "class KalmanFilter:\n",
        "    \"\"\"\n",
        "    Class for storing tracked object state using Kalman Filter.\n",
        "    \"\"\"\n",
        "    count = 0\n",
        "    min_hits = 0\n",
        "    base_classes = {}\n",
        "\n",
        "    def __init__(self, labels):\n",
        "        # Initialize Kalman filter parameters\n",
        "        self.kf = cv2.KalmanFilter(4, 2)\n",
        "        self.state = np.zeros((4, 1), dtype=np.float32)\n",
        "        self.meas = np.zeros((2, 1), dtype=np.float32)\n",
        "\n",
        "        self.kf.measurementMatrix = np.array([[1, 0, 0, 0],\n",
        "                                              [0, 1, 0, 0]], np.float32)\n",
        "\n",
        "        self.kf.transitionMatrix = np.array([[1, 0, 1, 0],\n",
        "                                             [0, 1, 0, 1],\n",
        "                                             [0, 0, 1, 0],\n",
        "                                             [0, 0, 0, 1]], np.float32)\n",
        "\n",
        "        self.kf.processNoiseCov = np.array([[1, 0, 0, 0],\n",
        "                                            [0, 1, 0, 0],\n",
        "                                            [0, 0, 1, 0],\n",
        "                                            [0, 0, 0, 1]], np.float32) * 0.03\n",
        "\n",
        "        # Initial state\n",
        "        self.state.itemset(0, float(labels[1] + labels[3] / 2.))\n",
        "        self.state.itemset(1, float(labels[2] + labels[4] / 2.))\n",
        "        self.state.itemset(2, float(labels[3]))\n",
        "        self.state.itemset(3, float(labels[4]))\n",
        "\n",
        "        self.kf.statePre = np.array([[self.state.flatten()[0]], [self.state.flatten()[1]], [0], [0]], np.float32)\n",
        "        self.kf.statePost = np.array([[self.state.flatten()[0]], [self.state.flatten()[1]], [0], [0]], np.float32)\n",
        "\n",
        "\n",
        "        self.classes = deque(maxlen=30)  # Track class history\n",
        "        self.classes.append(labels[0])\n",
        "        self.hits = 0\n",
        "        self.time_since_update = 0\n",
        "\n",
        "        self.id = 0\n",
        "\n",
        "    def predict(self):\n",
        "        \"\"\"\n",
        "        Predicts the next state of the object based on the current state.\n",
        "        \"\"\"\n",
        "        pred = self.kf.predict()\n",
        "        self.state.itemset(0, pred[0])\n",
        "        self.state.itemset(1, pred[1])\n",
        "        self.hits += 1\n",
        "        self.time_since_update += 1\n",
        "\n",
        "    def update(self, labels):\n",
        "        \"\"\"\n",
        "        Updates the state of the object based on the measurement.\n",
        "        \"\"\"\n",
        "        self.meas.itemset(0, labels[1] + labels[3] / 2)\n",
        "        self.meas.itemset(1, labels[2] + labels[4] / 2)\n",
        "        self.kf.correct(self.meas)\n",
        "        self.state.itemset(0, labels[1] + labels[3] / 2)\n",
        "        self.state.itemset(1, labels[2] + labels[4] / 2)\n",
        "        self.state.itemset(2, labels[3])\n",
        "        self.state.itemset(3, labels[4])\n",
        "\n",
        "\n",
        "        self.classes.append(labels[0])\n",
        "\n",
        "        self.hits += 1\n",
        "        self.time_since_update = 0\n",
        "\n",
        "        if self.hits > KalmanFilter.min_hits and self.id == 0:\n",
        "            self.id = KalmanFilter.count + 1\n",
        "            KalmanFilter.count += 1\n",
        "\n",
        "    def get_bbox(self):\n",
        "        \"\"\"\n",
        "        Returns the current location of the object.\n",
        "        \"\"\"\n",
        "        cx, cy, w, h = self.state.flatten()[:4]\n",
        "        return [cx - w / 2, cy - h / 2, cx + w/2, cy + h/2]\n",
        "\n",
        "    def get_class_id(self):\n",
        "        \"\"\"\n",
        "        Returns the class of the object (most frequent in history).\n",
        "        \"\"\"\n",
        "        cls = max(set(self.classes), key=self.classes.count)\n",
        "        return cls"
      ]
    },
    {
      "cell_type": "code",
      "execution_count": 44,
      "metadata": {
        "id": "x6e30JYQAL8y"
      },
      "outputs": [],
      "source": [
        "class Tracker:\n",
        "    def __init__(self, max_age, min_hits, classes):\n",
        "        self.trackers = []\n",
        "        self.max_age = max_age\n",
        "        self.min_hits = min_hits\n",
        "        self.classes = classes\n",
        "        self.color_map = self.generate_color_palette()\n",
        "\n",
        "        KalmanFilter.min_hits = min_hits\n",
        "        KalmanFilter.base_classes = classes\n",
        "        KalmanFilter.count = 0\n",
        "\n",
        "    def generate_color_palette(self):\n",
        "        # Use a colormap to generate distinct colors\n",
        "        cmap = plt.get_cmap('tab20')  # or any other colormap\n",
        "        colors = {cls: cmap(i) for i, cls in zip(np.linspace(0, 1, len(self.classes)), self.classes)}\n",
        "        return colors\n",
        "\n",
        "    def update(self, detections):\n",
        "        \"\"\"\n",
        "        \"Updates\" the tracker state based on the given detections.\n",
        "        \"\"\"\n",
        "\n",
        "        for tracker in self.trackers:\n",
        "            tracker.predict()\n",
        "\n",
        "        num_trackers = self.trackers.__len__()\n",
        "        num_detections = detections.__len__()\n",
        "\n",
        "        assigned_detections = np.zeros(num_detections)\n",
        "\n",
        "        # Solve the assignment problem (Assigning best trackers to detections)\n",
        "        if num_trackers > 0 and num_detections > 0:\n",
        "            for tracker in self.trackers:\n",
        "                for j, detection in enumerate(detections):\n",
        "                    box = np.array([detection[1], detection[2], detection[1]+detection[3], detection[2]+detection[4]])\n",
        "                    if self.compute_iou(tracker.get_bbox(), box) > 0.3:\n",
        "                        tracker.update(detection)\n",
        "                        assigned_detections[j] = 1\n",
        "                else:\n",
        "                    tracker.time_since_update += 1\n",
        "        elif num_trackers != 0:\n",
        "            for tracker in self.trackers:\n",
        "                tracker.time_since_update += 1\n",
        "\n",
        "        # Add new trackers for the unassigned detections\n",
        "        for j in range(num_detections):\n",
        "            if assigned_detections[j]==0:\n",
        "                self.trackers.append(KalmanFilter(detections[j]))\n",
        "\n",
        "        # Filter the old trackers out\n",
        "        self.trackers = [tracker for tracker in self.trackers if tracker.time_since_update < self.max_age]\n",
        "\n",
        "    @staticmethod\n",
        "    def compute_iou(box1, box2):\n",
        "        \"\"\"\n",
        "        Computes the Intersection over Union (IoU) between two bounding boxes.\n",
        "        \"\"\"\n",
        "\n",
        "        x11, y11, x12, y12 = box1\n",
        "        x21, y21, x22, y22 = box2\n",
        "\n",
        "        xi1 = max(x11, x21)\n",
        "        yi1 = max(y11, y21)\n",
        "        xi2 = min(x12, x22)\n",
        "        yi2 = min(y12, y22)\n",
        "        inter_area = max(0, xi2 - xi1) * max(0, yi2 - yi1)\n",
        "\n",
        "        box1_area = (x12 - x11) * (y12 - y11)\n",
        "        box2_area = (x22 - x21) * (y22 - y21)\n",
        "        union_area = box1_area + box2_area - inter_area\n",
        "\n",
        "        return inter_area / (union_area + 0.000001)\n",
        "\n",
        "\n",
        "    def draw(self, img):\n",
        "        for tracker in self.trackers:\n",
        "            if tracker.hits > self.min_hits:\n",
        "                box = tracker.get_bbox()\n",
        "                color = [255*clr for clr in self.color_map[tracker.get_class_id()]]\n",
        "                cv2.rectangle(img, (int(box[0]), int(box[1])), (int(box[2]), int(box[3])), color, 1)\n",
        "                cv2.putText(img, str(tracker.id), (int(box[0]), int(box[1]) - 10), cv2.FONT_HERSHEY_SIMPLEX, 0.9, color, 1)"
      ]
    },
    {
      "cell_type": "markdown",
      "metadata": {},
      "source": [
        "# 2.Tracking"
      ]
    },
    {
      "cell_type": "code",
      "execution_count": 46,
      "metadata": {
        "id": "v72riKpG346g"
      },
      "outputs": [],
      "source": [
        "def get_detections(model, img, img_size, confidence):\n",
        "    input = cv2.cvtColor(img, cv2.COLOR_BGR2RGB)\n",
        "    results = model(input, imgsz=img_size, conf=confidence, verbose=False)\n",
        "\n",
        "    final_labels = []\n",
        "    # Display the results\n",
        "    for result in results:\n",
        "        boxes = result.boxes.xyxy  # x1, y1, x2, y2\n",
        "        confidences = result.boxes.conf\n",
        "        class_ids = result.boxes.cls\n",
        "\n",
        "        for box, confidence, class_id in zip(boxes, confidences, class_ids):\n",
        "            if class_id == 1:  # Class ID for Bicycle in COCO dataset\n",
        "                x1, y1, x2, y2 = map(int, box)\n",
        "                final_labels.append(['Bicycle', x1, y1, x2-x1, y2-y1])\n",
        "            elif class_id == 2:  # Class ID for Car in COCO dataset\n",
        "                x1, y1, x2, y2 = map(int, box)\n",
        "                final_labels.append(['Car', x1, y1, x2-x1, y2-y1])\n",
        "            elif class_id == 3:  # Class ID for Motorcycle in COCO dataset\n",
        "                x1, y1, x2, y2 = map(int, box)\n",
        "                final_labels.append(['Motorcycle', x1, y1, x2-x1, y2-y1])\n",
        "            elif class_id == 5:  # Class ID for Bus in COCO dataset\n",
        "                x1, y1, x2, y2 = map(int, box)\n",
        "                final_labels.append(['Bus', x1, y1, x2-x1, y2-y1])\n",
        "            elif class_id == 7:  # Class ID for Truck in COCO dataset\n",
        "                x1, y1, x2, y2 = map(int, box)\n",
        "                final_labels.append(['Truck', x1, y1, x2-x1, y2-y1])\n",
        "\n",
        "    return final_labels"
      ]
    },
    {
      "cell_type": "code",
      "execution_count": null,
      "metadata": {
        "colab": {
          "base_uri": "https://localhost:8080/"
        },
        "id": "SkFKqnyKADdD",
        "outputId": "c494774a-9179-4a9a-fecb-567f5048f9d7"
      },
      "outputs": [],
      "source": [
        "model = YOLO(MODEL_TYPE)\n",
        "tracker = Tracker(MAX_AGE, MIN_HITS, CLASSES)\n",
        "\n",
        "cap = cv2.VideoCapture(INPUT_VIDEO)\n",
        "frame_width = int(cap.get(3))\n",
        "frame_height = int(cap.get(4))\n",
        "size = (frame_width, frame_height)\n",
        "# result = cv2.VideoWriter('result.avi',\n",
        "#                          cv2.VideoWriter_fourcc(*'MJPG'),\n",
        "#                          10, size)\n",
        "while cap.isOpened():\n",
        "    ret, frame = cap.read()\n",
        "    if ret:\n",
        "        labels = get_detections(model, frame, IMAGE_SIZE, OBJ_CONFIDENCE)\n",
        "        tracker.update(labels)\n",
        "        tracker.draw(frame)\n",
        "        #result.write(frame)\n",
        "        cv2.imshow('frame', frame)\n",
        "        if cv2.waitKey(1) & 0xFF == ord('q'):\n",
        "            break\n",
        "    else:\n",
        "        break\n",
        "cap.release()\n",
        "cv2.destroyAllWindows()"
      ]
    }
  ],
  "metadata": {
    "accelerator": "GPU",
    "colab": {
      "gpuType": "T4",
      "provenance": []
    },
    "kernelspec": {
      "display_name": "Python 3",
      "name": "python3"
    },
    "language_info": {
      "codemirror_mode": {
        "name": "ipython",
        "version": 3
      },
      "file_extension": ".py",
      "mimetype": "text/x-python",
      "name": "python",
      "nbconvert_exporter": "python",
      "pygments_lexer": "ipython3",
      "version": "3.10.12"
    }
  },
  "nbformat": 4,
  "nbformat_minor": 0
}
